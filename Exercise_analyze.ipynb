{
 "cells": [
  {
   "cell_type": "code",
   "execution_count": 2,
   "metadata": {},
   "outputs": [],
   "source": [
    "import pandas as pd\n",
    "import numpy as np\n",
    "import random"
   ]
  },
  {
   "cell_type": "code",
   "execution_count": 3,
   "metadata": {},
   "outputs": [
    {
     "data": {
      "text/html": [
       "<div>\n",
       "<style scoped>\n",
       "    .dataframe tbody tr th:only-of-type {\n",
       "        vertical-align: middle;\n",
       "    }\n",
       "\n",
       "    .dataframe tbody tr th {\n",
       "        vertical-align: top;\n",
       "    }\n",
       "\n",
       "    .dataframe thead th {\n",
       "        text-align: right;\n",
       "    }\n",
       "</style>\n",
       "<table border=\"1\" class=\"dataframe\">\n",
       "  <thead>\n",
       "    <tr style=\"text-align: right;\">\n",
       "      <th></th>\n",
       "      <th>Body Part</th>\n",
       "      <th>Type of Muscle</th>\n",
       "      <th>Workout</th>\n",
       "    </tr>\n",
       "  </thead>\n",
       "  <tbody>\n",
       "    <tr>\n",
       "      <th>0</th>\n",
       "      <td>Chest</td>\n",
       "      <td>Upper Chest</td>\n",
       "      <td>Incline dumbbell press</td>\n",
       "    </tr>\n",
       "    <tr>\n",
       "      <th>1</th>\n",
       "      <td>Chest</td>\n",
       "      <td>Upper Chest</td>\n",
       "      <td>Incline cable crossovers</td>\n",
       "    </tr>\n",
       "    <tr>\n",
       "      <th>2</th>\n",
       "      <td>Chest</td>\n",
       "      <td>Upper Chest</td>\n",
       "      <td>Incline dumbbell flyes</td>\n",
       "    </tr>\n",
       "    <tr>\n",
       "      <th>3</th>\n",
       "      <td>Chest</td>\n",
       "      <td>Lower Chest</td>\n",
       "      <td>Decline dumbbell press</td>\n",
       "    </tr>\n",
       "    <tr>\n",
       "      <th>4</th>\n",
       "      <td>Chest</td>\n",
       "      <td>Lower Chest</td>\n",
       "      <td>Decline cable crossovers</td>\n",
       "    </tr>\n",
       "  </tbody>\n",
       "</table>\n",
       "</div>"
      ],
      "text/plain": [
       "  Body Part Type of Muscle                   Workout\n",
       "0     Chest    Upper Chest    Incline dumbbell press\n",
       "1     Chest    Upper Chest  Incline cable crossovers\n",
       "2     Chest    Upper Chest    Incline dumbbell flyes\n",
       "3     Chest    Lower Chest    Decline dumbbell press\n",
       "4     Chest    Lower Chest  Decline cable crossovers"
      ]
     },
     "execution_count": 3,
     "metadata": {},
     "output_type": "execute_result"
    }
   ],
   "source": [
    "edata = pd.read_csv(r\"./Workout.csv\")\n",
    "edata.head()"
   ]
  },
  {
   "cell_type": "code",
   "execution_count": 4,
   "metadata": {},
   "outputs": [
    {
     "data": {
      "text/plain": [
       "array(['Chest', 'Back', 'Arms', 'Legs', 'Shoulders', 'Abs', 'Forearms'],\n",
       "      dtype=object)"
      ]
     },
     "execution_count": 4,
     "metadata": {},
     "output_type": "execute_result"
    }
   ],
   "source": [
    "edata['Body Part'].unique()"
   ]
  },
  {
   "cell_type": "code",
   "execution_count": 5,
   "metadata": {},
   "outputs": [
    {
     "data": {
      "text/plain": [
       "Body Part\n",
       "Arms         10\n",
       "Chest         9\n",
       "Legs          9\n",
       "Back          7\n",
       "Abs           6\n",
       "Forearms      6\n",
       "Shoulders     5\n",
       "Name: count, dtype: int64"
      ]
     },
     "execution_count": 5,
     "metadata": {},
     "output_type": "execute_result"
    }
   ],
   "source": [
    "edata['Body Part'].value_counts()"
   ]
  },
  {
   "cell_type": "code",
   "execution_count": 6,
   "metadata": {},
   "outputs": [
    {
     "data": {
      "text/html": [
       "<div>\n",
       "<style scoped>\n",
       "    .dataframe tbody tr th:only-of-type {\n",
       "        vertical-align: middle;\n",
       "    }\n",
       "\n",
       "    .dataframe tbody tr th {\n",
       "        vertical-align: top;\n",
       "    }\n",
       "\n",
       "    .dataframe thead th {\n",
       "        text-align: right;\n",
       "    }\n",
       "</style>\n",
       "<table border=\"1\" class=\"dataframe\">\n",
       "  <thead>\n",
       "    <tr style=\"text-align: right;\">\n",
       "      <th></th>\n",
       "      <th>Body Part</th>\n",
       "      <th>Type of Muscle</th>\n",
       "      <th>Workout</th>\n",
       "    </tr>\n",
       "  </thead>\n",
       "  <tbody>\n",
       "    <tr>\n",
       "      <th>0</th>\n",
       "      <td>Chest</td>\n",
       "      <td>Upper Chest</td>\n",
       "      <td>Incline dumbbell press</td>\n",
       "    </tr>\n",
       "    <tr>\n",
       "      <th>1</th>\n",
       "      <td>Chest</td>\n",
       "      <td>Upper Chest</td>\n",
       "      <td>Incline cable crossovers</td>\n",
       "    </tr>\n",
       "    <tr>\n",
       "      <th>2</th>\n",
       "      <td>Chest</td>\n",
       "      <td>Upper Chest</td>\n",
       "      <td>Incline dumbbell flyes</td>\n",
       "    </tr>\n",
       "    <tr>\n",
       "      <th>3</th>\n",
       "      <td>Chest</td>\n",
       "      <td>Lower Chest</td>\n",
       "      <td>Decline dumbbell press</td>\n",
       "    </tr>\n",
       "    <tr>\n",
       "      <th>4</th>\n",
       "      <td>Chest</td>\n",
       "      <td>Lower Chest</td>\n",
       "      <td>Decline cable crossovers</td>\n",
       "    </tr>\n",
       "    <tr>\n",
       "      <th>5</th>\n",
       "      <td>Chest</td>\n",
       "      <td>Lower Chest</td>\n",
       "      <td>Decline dumbbell flyes</td>\n",
       "    </tr>\n",
       "    <tr>\n",
       "      <th>6</th>\n",
       "      <td>Chest</td>\n",
       "      <td>Chest Isolation</td>\n",
       "      <td>Chest flyes</td>\n",
       "    </tr>\n",
       "    <tr>\n",
       "      <th>7</th>\n",
       "      <td>Chest</td>\n",
       "      <td>Chest Isolation</td>\n",
       "      <td>Cable crossovers</td>\n",
       "    </tr>\n",
       "    <tr>\n",
       "      <th>8</th>\n",
       "      <td>Chest</td>\n",
       "      <td>Chest Isolation</td>\n",
       "      <td>Dumbbell flyes</td>\n",
       "    </tr>\n",
       "  </tbody>\n",
       "</table>\n",
       "</div>"
      ],
      "text/plain": [
       "  Body Part   Type of Muscle                   Workout\n",
       "0     Chest      Upper Chest    Incline dumbbell press\n",
       "1     Chest      Upper Chest  Incline cable crossovers\n",
       "2     Chest      Upper Chest    Incline dumbbell flyes\n",
       "3     Chest      Lower Chest    Decline dumbbell press\n",
       "4     Chest      Lower Chest  Decline cable crossovers\n",
       "5     Chest      Lower Chest    Decline dumbbell flyes\n",
       "6     Chest  Chest Isolation               Chest flyes\n",
       "7     Chest  Chest Isolation          Cable crossovers\n",
       "8     Chest  Chest Isolation            Dumbbell flyes"
      ]
     },
     "execution_count": 6,
     "metadata": {},
     "output_type": "execute_result"
    }
   ],
   "source": [
    "edata.loc[edata['Body Part'] == 'Chest']"
   ]
  },
  {
   "cell_type": "code",
   "execution_count": 9,
   "metadata": {},
   "outputs": [
    {
     "data": {
      "text/html": [
       "<div>\n",
       "<style scoped>\n",
       "    .dataframe tbody tr th:only-of-type {\n",
       "        vertical-align: middle;\n",
       "    }\n",
       "\n",
       "    .dataframe tbody tr th {\n",
       "        vertical-align: top;\n",
       "    }\n",
       "\n",
       "    .dataframe thead th {\n",
       "        text-align: right;\n",
       "    }\n",
       "</style>\n",
       "<table border=\"1\" class=\"dataframe\">\n",
       "  <thead>\n",
       "    <tr style=\"text-align: right;\">\n",
       "      <th></th>\n",
       "      <th>Body Part</th>\n",
       "      <th>Type of Muscle</th>\n",
       "      <th>Workout</th>\n",
       "    </tr>\n",
       "  </thead>\n",
       "  <tbody>\n",
       "    <tr>\n",
       "      <th>9</th>\n",
       "      <td>Back</td>\n",
       "      <td>Upper</td>\n",
       "      <td>Pull-ups</td>\n",
       "    </tr>\n",
       "    <tr>\n",
       "      <th>10</th>\n",
       "      <td>Back</td>\n",
       "      <td>Upper</td>\n",
       "      <td>Barbell rows</td>\n",
       "    </tr>\n",
       "    <tr>\n",
       "      <th>11</th>\n",
       "      <td>Back</td>\n",
       "      <td>Upper</td>\n",
       "      <td>Dumbbell rows</td>\n",
       "    </tr>\n",
       "    <tr>\n",
       "      <th>12</th>\n",
       "      <td>Back</td>\n",
       "      <td>Upper</td>\n",
       "      <td>Seated cable rows</td>\n",
       "    </tr>\n",
       "    <tr>\n",
       "      <th>13</th>\n",
       "      <td>Back</td>\n",
       "      <td>Lower</td>\n",
       "      <td>Bent-over rows</td>\n",
       "    </tr>\n",
       "    <tr>\n",
       "      <th>14</th>\n",
       "      <td>Back</td>\n",
       "      <td>Lower</td>\n",
       "      <td>Hyperextensions</td>\n",
       "    </tr>\n",
       "    <tr>\n",
       "      <th>15</th>\n",
       "      <td>Back</td>\n",
       "      <td>Lower</td>\n",
       "      <td>Bird dog</td>\n",
       "    </tr>\n",
       "  </tbody>\n",
       "</table>\n",
       "</div>"
      ],
      "text/plain": [
       "   Body Part Type of Muscle            Workout\n",
       "9       Back          Upper           Pull-ups\n",
       "10      Back          Upper       Barbell rows\n",
       "11      Back          Upper      Dumbbell rows\n",
       "12      Back          Upper  Seated cable rows\n",
       "13      Back          Lower     Bent-over rows\n",
       "14      Back          Lower    Hyperextensions\n",
       "15      Back          Lower           Bird dog"
      ]
     },
     "execution_count": 9,
     "metadata": {},
     "output_type": "execute_result"
    }
   ],
   "source": [
    "filtered_data"
   ]
  }
 ],
 "metadata": {
  "kernelspec": {
   "display_name": "Python 3",
   "language": "python",
   "name": "python3"
  },
  "language_info": {
   "codemirror_mode": {
    "name": "ipython",
    "version": 3
   },
   "file_extension": ".py",
   "mimetype": "text/x-python",
   "name": "python",
   "nbconvert_exporter": "python",
   "pygments_lexer": "ipython3",
   "version": "3.11.4"
  }
 },
 "nbformat": 4,
 "nbformat_minor": 2
}
